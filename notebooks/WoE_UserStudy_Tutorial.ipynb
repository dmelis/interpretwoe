{
 "cells": [
  {
   "cell_type": "markdown",
   "metadata": {},
   "source": [
    "# User Study on Interpretability - Tutorial"
   ]
  },
  {
   "cell_type": "markdown",
   "metadata": {},
   "source": [
    "#### Thank you for participating in our study! \n",
    " \n",
    "The study is structured as follows:\n",
    "1. Tutorial: Overview of the main concepts that will be used in the rest of the study.\n",
    "2. Setup Description: Presentation of the dataset used, descriptive statistics, etc. \n",
    "3. Main Component: Using the interpretability tool to answer questions about an ML model.\n",
    "4. A follow-up questionnaire and interview. \n",
    "\n",
    "Please keep this tutorial open and handy while you complete the study. **You're welcome (and encouraged!) to refer back to it at any point.**\n"
   ]
  },
  {
   "cell_type": "markdown",
   "metadata": {},
   "source": [
    "## Odds, Log Odds, and Odd Ratios"
   ]
  },
  {
   "cell_type": "markdown",
   "metadata": {},
   "source": [
    "<img align=\"center\" width=\"900\" height=\"900\" src=\"./images_tutorial/Odds_Diagrams.jpg\">"
   ]
  },
  {
   "cell_type": "markdown",
   "metadata": {},
   "source": [
    "### Odds\n",
    "Odds are an intuitive way to express chance, very commonly used in the context of betting markets.\n",
    "\n",
    "Since in this study will be focused on machine learning ---and classification in particular--- we will introduce odds and related concepts using an example from classification. \n",
    "\n",
    "Suppose we are trying to predict whether a person has a certain disease ($Y=1$ if they're infected, $Y=0$ otherwise) based on some symptoms $X$. \n",
    "\n",
    "[//]: # \"For the purposes of this study we define odds and related concepts in terms of classification. Supose we have a contiuous variable $X\\in\\mathbb{R}$ and a binary one $Y \\in \\{0,1\\}$.\"\n",
    "\n",
    "The odds of a person being sick are defined as:\n",
    "$$ O(Y=1) = \\frac{P(Y=1)}{P(Y=0)} $$ \n",
    "\n",
    "For example, if $P(Y=1)=0.8$, then $O(Y=1)=4$, and we would say that the odds of $Y=1$ are four to one, which can be written as 4:1. \n",
    "\n",
    "### Odds Ratio\n",
    "Now, in to express the association between symptoms $X$ and disease $Y$, we can use the *odds ratio*: \n",
    "$$ \\text{OR}(Y=1 : X) = \\frac{O(Y=1 \\mid X)}{O(Y)}$$\n",
    "which tells us how the odds of being sick conditioned on the symptoms compares to the odds without taking those into account.\n",
    "\n",
    "It turns out (using Bayes rule) that this is mathematically equivalent to:\n",
    "$$ \\text{OR}(Y=1 : X) = \\frac{P(X \\mid Y=1)}{P(X \\mid Y=0} $$\n",
    "\n",
    "Therefore, we can interpret odds ratios in two complementary ways. For example, $\\text{OR}(Y=1 : X_{\\text{cough}}=1)=2$ can be interpreted as:\n",
    "* **(I1):** The odds of being infected double when the person has a cough\n",
    "* **(I2):** A person is twice as likely to have a cough when infected compared to when they are not\n",
    "\n",
    "\n",
    "It is common to work with the logarithm of the odds ratio instead, which allows us to use addition (instead of multiplication) when combining odds of various events. For example, if $X_{\\text{cough}}$ and $X_{\\text{fever}}$ are independent, then:\n",
    "\n",
    "$$\\log  \\text{OR}(Y=1 : X_{\\text{cough}} , X_{\\text{fever}} )  = \\log  \\text{OR}(Y=1 : X_{\\text{cough}} )  +  \\log  \\text{OR}(Y=1 : X_{\\text{fever}} )$$\n",
    "\n",
    "So we can easily decompose how much the presence of all the symptoms contribute to the probability of being infected into individual, additive contributions.\n",
    "\n"
   ]
  },
  {
   "cell_type": "markdown",
   "metadata": {},
   "source": [
    "### Checkpoint Questions\n",
    "\n",
    "Suppose that for a given patient:\n",
    "* $\\log  \\text{OR}(Y=1 : X_{\\text{cough}}=0 ) = -1$\n",
    "* $\\log  \\text{OR}(Y=1 : X_{\\text{headache}}=1 ) = 0$\n",
    "* $\\log \\text{OR}(Y=1 : X_{\\text{fever}} =1)=2$\n",
    "\n",
    "**Q1:** How would you interpret these facts?  \n",
    "\n",
    "Answer:\n",
    "\n",
    "\n",
    "[//]: #  \"\\log  \\frac{O(Y=1 \\mid X_1 , X_2 )}{O(Y=1)}  = \\log  \\frac{O(Y=1 \\mid X_1 )}{O(Y=1)}  + \\log  \\frac{O(Y=1 \\mid X_2 )}{O(Y=1)}\""
   ]
  },
  {
   "cell_type": "code",
   "execution_count": null,
   "metadata": {},
   "outputs": [],
   "source": []
  },
  {
   "cell_type": "markdown",
   "metadata": {},
   "source": [
    "**Q2:** Taking all of these into account, what is the odds ratio of this person being infected? And how would you interpret this? (you can use any of the two equivalent interpretaions I1 or I2)\n",
    "\n",
    "Answer:  "
   ]
  },
  {
   "cell_type": "code",
   "execution_count": null,
   "metadata": {},
   "outputs": [],
   "source": []
  },
  {
   "cell_type": "markdown",
   "metadata": {},
   "source": [
    "## Weight Of Evidence"
   ]
  },
  {
   "cell_type": "markdown",
   "metadata": {},
   "source": [
    "<img align=\"center\" width=\"500\" height=\"500\" src=\"./images_tutorial/woe_balance.png\">"
   ]
  },
  {
   "cell_type": "markdown",
   "metadata": {},
   "source": [
    "### Definition\n",
    "\n",
    "The log of the odds ratio is sometimes referred to as ***the Weight of Evidence*** (WoE for short). In a nutshell, the Weight of Evidence is used to quantify variable importance, and it attempts to answer the question:\n",
    "> \"does the *evidence* speak in favor or against a certain *hypothesis*?\"\n",
    "\n",
    "In this study we will use WoE to 'explain' predictions of machine learning models, so the 'evidence' will be the input features (e.g., symptoms), the 'hypothesis' will be related to the model's prediction (e.g., Y='infected') and the question we seek to answer is:\n",
    "\n",
    "> \"**according to the model**, how much does the input speak in favor of a certain prediction\"\n",
    "\n",
    "Since the WoE is nothing but the log odds ratio, recall that it can be expressed (and interpreted) in two different ways:\n",
    "$$ \\text{woe}(Y=1 : X_{\\text{cough}}) =  \\log \\frac{O(Y=1 \\mid X_{\\text{cough}})}{O(Y=1)} =  \\log \\frac{P(X_{\\text{cough}} \\mid Y=1)}{P(X_{\\text{cough}} \\mid Y=0)}$$\n",
    "\n",
    "In the language of the Weight of Evidence literature, we would say:\n",
    "* $\\text{woe}(Y=1 : X_{\\text{cough}}=1) > 0 $  ⟹ the presence of cough ***speaks in favor*** of this patient being infected ($Y=1$)\n",
    "* $\\text{woe}(Y=1 : X_{\\text{cough}}=1) < 0 $  ⟹ the presence of cough ***speaks against*** this patient being infected ($Y=1$)\n"
   ]
  },
  {
   "cell_type": "markdown",
   "metadata": {},
   "source": [
    "### Binary vs. Multiclass\n",
    "\n",
    "Since $Y$ is binary in our example so far, there's only two possible hypotheses: \n",
    "* the patient is infected (let's say this is the 'primary hypothesis') or\n",
    "* the patient is not infected (the 'alternative hypothesis').  \n",
    "\n",
    "Therfore, evidence *against* one of these is evidence *in favor* of the other.\n",
    "\n",
    "But what if we had multi-class classification problem? E.g., suppose the model must instead predict one of $K$ possible diseases, and that for a given patient the model predicts $Y=$'flu', which we take as the primary hypothesis. The alternative hypothesis $h'$ could be:\n",
    "* All the other possible diseases (e.g., $h': ( Y \\in K\\setminus \\text{flu} )$)\n",
    "* Another specific disease (e.g., $h': (Y=\\text{cold})$)\n",
    "* Any other subset of diseases, e.g. 'viral' or 'bacterial'\n",
    "\n",
    "Each of these might shed light on different aspects of the prediction.\n",
    "\n",
    "[//]: <> \"how much more likely is a given hypothesis h over an alternative h' given evidence e\"\n",
    "[//]: <> \"we denote this by $\\text{woe}(h/h' : e)$\"\n",
    "[//]: <> \"If this quantity is positive, we say that the evidence $e$ speaks in favor of $h$ (and against $h'$). If it's negative, then the roles reverse: $e$ speaks against $h$ (and in favor of $h'$).\"\n",
    "\n",
    "\n",
    "This table provides a simple rule of thumb to decide on how \"significant\" the WoE is:\n",
    "\n",
    "|  Weight of Evidence Score  | Odds in favor of hypothesis           | Strength of Evidence|\n",
    "| ------------- |:-------------:| -----:|\n",
    "| $ < 1.15$      | less than 3:1 | Not worth mentioning |\n",
    "| $1.15$ to $2.3$  | between 3:1 and 10:1      |  Substantial |\n",
    "| $2.3$ to $4.61$ | between 10:1 and 100:1      |    Strong |\n",
    "| $>4.61$  | more than 100:1     |  Decisive |\n",
    "\n",
    "Remember: a negative WoE indicates that the evidence speaks in favor of the alternative hypothesis $h'$, so we can use this table to now quantify strength of evidence *against* $h$ (in *favor* of $h'$).\n",
    "\n",
    "[//]: <> \"according to the model, how much more likely is class A over B given than the input is X\"\n",
    "[//]: <> \"As before, a postitive WoE score indicates that the features $X$ make the reference class (A) more likely than the alternative one (B).\"\n",
    "\n",
    "Here's what a full example might look like:\n",
    "\n",
    "<img align=\"center\" width=\"900\" height=\"900\" src=\"./images_tutorial/Simple_WoE_Diagram_feat.jpg\">\n"
   ]
  },
  {
   "cell_type": "markdown",
   "metadata": {},
   "source": [
    "### WoE of Individual Features and Feature Groups\n",
    "\n",
    "<!--- (<img align=\"center\" width=\"500\" height=\"500\" src=\"./images_tutorial/dendrogram.png\">) --->\n",
    "\n",
    "\n",
    "When the input has dimension >1, we will usually display the WoE scores for each feature as shown above.\n",
    "\n",
    "When there is a large number of features, and there is a meaningful way to group them, it is often convenient to show aggregated WoE scores per group.\n",
    "\n",
    "For our running example, a sensible grouping of the six symptoms would be:  \n",
    "* 'respiratory' (cough, dispnea)\n",
    "*  overall 'body' feeling (aches, weakness)\n",
    "* 'temprature' (chills, fever). \n",
    "\n",
    "In that case, we could instead display:\n",
    "\n",
    "<img align=\"center\" width=\"900\" height=\"900\" src=\"./images_tutorial/Simple_WoE_Diagram_Agg.jpg\">\n",
    "\n",
    "which might let us quickly realize that the most decisive factors supporting this prediction are respiratory.\n"
   ]
  },
  {
   "cell_type": "markdown",
   "metadata": {},
   "source": [
    "### Sequential Explanations\n",
    "\n",
    "For multi-class classification, it is sometimes useful to break down the explantion into various 'steps'. \n",
    "\n",
    "For our diagnosis example, suppose the model predicts 'flu'. It might be illustrative to understand according to the model:\n",
    "1. What evidence points to *viral diseases* ('flu', 'avian flu', etc.) instead of *bacterial* ones ('strep', etc.)\n",
    "2. What evidence singles out common 'flu' over other viral diseases.\n",
    "\n",
    "We can use the Weight of Evidence sequential towards this purpose:\n",
    "\n",
    "<img align=\"center\" width=\"900\" height=\"900\" src=\"./images_tutorial/Simple_WoE_Diagram_Seq.jpg\">\n"
   ]
  },
  {
   "cell_type": "markdown",
   "metadata": {},
   "source": [
    "### Prior Probabilities\n",
    "\n"
   ]
  },
  {
   "cell_type": "markdown",
   "metadata": {},
   "source": [
    "### A Real Example\n",
    "\n",
    "The following is an actual plot produced by our WoE-Explainer tool:\n",
    "\n",
    "<img align=\"center\" width=\"900\" height=\"900\" src=\"./images_tutorial/example_expl_2.jpg\">\n",
    "\n",
    "\n",
    "Based on this plot, please answer the following questions:\n",
    "\n",
    "**Q2:** How would you interpret these facts?  \n",
    "\n",
    "**Q3:** How would you interpret these facts?  \n",
    "\n",
    "\n",
    "<!---\n",
    "From this plot, we can draw the following conclusions:\n",
    "* The prior log-odds are positive, i.e., absent other information the model is more likely to predict than not. \n",
    "* The values of the `econ` and `usage` attributes provide substantial evidence in favor of class A \n",
    "* The values of the `demo` and `safety` attributes provide substantial evidence against class A (equiv., in favor of class B)\n",
    "* The rest of the attributes dont provide substantial evidence \n",
    "* Despite opposing effects, the total evidence **in favor** of A is stronger that that **against** it (think about stacking the positive and negative bars together), so the model predicts class A\n",
    "--->"
   ]
  },
  {
   "cell_type": "markdown",
   "metadata": {},
   "source": [
    "## Key take-aways:\n",
    "\n",
    "1. #### The Weight of Evidence (WoE): \"how does the presence of some input features (the *evidence*) affect the prediction of a model (hypothesis)\"\n",
    "2. #### WoE is expressed in terms of log odd ratios, so it is additive over variables (features)\n",
    "4. #### You can choose to aggregate the WoE scores by feature group or keep them individually for each feature\n",
    "5. #### You can choose to show one-shot (predicted-vs-other WoE) or sequential (WoE ratios for subsets of the classes at a time) "
   ]
  },
  {
   "cell_type": "code",
   "execution_count": null,
   "metadata": {},
   "outputs": [],
   "source": []
  }
 ],
 "metadata": {
  "kernelspec": {
   "display_name": "Python 3",
   "language": "python",
   "name": "python3"
  },
  "language_info": {
   "codemirror_mode": {
    "name": "ipython",
    "version": 3
   },
   "file_extension": ".py",
   "mimetype": "text/x-python",
   "name": "python",
   "nbconvert_exporter": "python",
   "pygments_lexer": "ipython3",
   "version": "3.7.4"
  }
 },
 "nbformat": 4,
 "nbformat_minor": 2
}
