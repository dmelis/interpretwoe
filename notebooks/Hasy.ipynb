{
 "cells": [
  {
   "cell_type": "code",
   "execution_count": 1,
   "metadata": {},
   "outputs": [],
   "source": [
    "import sys \n",
    "import pdb\n",
    "import torch\n",
    "import torch.utils.data\n",
    "from torchvision import datasets, transforms\n",
    "import torch.optim as optim\n",
    "from attrdict import AttrDict\n",
    "from torch.autograd import Variable\n",
    "import torch.nn as nn\n",
    "import torch.nn.functional as F\n",
    "import importlib\n",
    "import numpy as np\n",
    "\n",
    "#sys.path.append('../data/Hasy/')\n",
    "sys.path.append('../src/codebase')"
   ]
  },
  {
   "cell_type": "code",
   "execution_count": 2,
   "metadata": {},
   "outputs": [],
   "source": [
    "import matplotlib\n",
    "import matplotlib.pyplot as plt\n",
    "%matplotlib inline\n",
    "import warnings\n",
    "warnings.filterwarnings('ignore') "
   ]
  },
  {
   "cell_type": "code",
   "execution_count": 3,
   "metadata": {},
   "outputs": [],
   "source": [
    "from main_hasy import load_hasy_data"
   ]
  },
  {
   "cell_type": "code",
   "execution_count": 4,
   "metadata": {},
   "outputs": [],
   "source": [
    "%load_ext autoreload \n",
    "%autoreload 2"
   ]
  },
  {
   "cell_type": "code",
   "execution_count": 5,
   "metadata": {},
   "outputs": [
    {
     "data": {
      "text/plain": [
       "<torch._C.Generator at 0x7f605b5ff730>"
      ]
     },
     "execution_count": 5,
     "metadata": {},
     "output_type": "execute_result"
    }
   ],
   "source": [
    "# Reproducibility\n",
    "np.random.seed(2018)\n",
    "torch.manual_seed(2018)"
   ]
  },
  {
   "cell_type": "markdown",
   "metadata": {},
   "source": [
    "### Set Parameters"
   ]
  },
  {
   "cell_type": "code",
   "execution_count": 6,
   "metadata": {},
   "outputs": [],
   "source": [
    "outdir = '../src/out/hasy/'\n",
    "ckpdir = '../src/checkpoints/hasy/'\n",
    "\n",
    "# Just needed for data loading, really\n",
    "args = AttrDict({'batch_size': 64,\n",
    "                 'lr': 0.001,\n",
    "                 'momentum': 0.5,\n",
    "                 'epochs': 10,\n",
    "                 'num_workers': 2,\n",
    "                 'log_interval': 10})\n",
    "\n",
    "# Reproducibility\n",
    "np.random.seed(2018)"
   ]
  },
  {
   "cell_type": "markdown",
   "metadata": {},
   "source": [
    "### Load Data"
   ]
  },
  {
   "cell_type": "code",
   "execution_count": 7,
   "metadata": {},
   "outputs": [
    {
     "data": {
      "text/plain": [
       "168233"
      ]
     },
     "execution_count": 7,
     "metadata": {},
     "output_type": "execute_result"
    }
   ],
   "source": [
    "# Load data\n",
    "train_loader, valid_loader, test_loader, dataset, sym2ind, ind2sym  = \\\n",
    "    load_hasy_data('../data/Hasy/', splits = (0.1,0.1),\n",
    "    batch_size=args.batch_size,num_workers=args.num_workers)\n",
    "\n",
    "len(dataset)"
   ]
  },
  {
   "cell_type": "code",
   "execution_count": 8,
   "metadata": {},
   "outputs": [],
   "source": [
    "# Grab a batch for experiments\n",
    "batch_x, batch_y = next(iter(train_loader))"
   ]
  },
  {
   "cell_type": "code",
   "execution_count": 9,
   "metadata": {},
   "outputs": [
    {
     "data": {
      "text/plain": [
       "<matplotlib.image.AxesImage at 0x7feef65c1978>"
      ]
     },
     "execution_count": 9,
     "metadata": {},
     "output_type": "execute_result"
    },
    {
     "data": {
      "image/png": "[encoded data removed]",
      "text/plain": [
       "<Figure size 432x288 with 1 Axes>"
      ]
     },
     "metadata": {},
     "output_type": "display_data"
    }
   ],
   "source": [
    "idx = 4\n",
    "plt.imshow(batch_x[idx].squeeze(), cmap = 'Greys')\n"
   ]
  },
  {
   "cell_type": "code",
   "execution_count": 10,
   "metadata": {},
   "outputs": [
    {
     "name": "stdout",
     "output_type": "stream",
     "text": [
      "Examples:\n"
     ]
    },
    {
     "data": {
      "image/png": "[encoded data removed]",
      "text/plain": [
       "<Figure size 432x288 with 1 Axes>"
      ]
     },
     "metadata": {},
     "output_type": "display_data"
    },
    {
     "name": "stdout",
     "output_type": "stream",
     "text": [
      "Ground Truth:\n"
     ]
    },
    {
     "data": {
      "image/png": "[encoded data removed]",
      "text/plain": [
       "<Figure size 288x288 with 64 Axes>"
      ]
     },
     "metadata": {},
     "output_type": "display_data"
    }
   ],
   "source": [
    "#B = next(iter(train_loader))\n",
    "from IPython.display import display, Math\n",
    "\n",
    "import utils\n",
    "importlib.reload(utils)\n",
    "from utils import tensorshow, make_latex_grid\n",
    "\n",
    "import matplotlib as mpl\n",
    "mpl.rcParams['text.usetex'] = True\n",
    "mpl.rcParams['text.latex.preamble'] = [r'\\usepackage{amsmath,amssymb,amsthm,mathrsfs,amsfonts,dsfont,wasysym,cmll,stmaryrd, gensymb}'] #for \\text command\n",
    "from torchvision.utils import make_grid\n",
    "\n",
    "print('Examples:')    \n",
    "tensorshow(make_grid(batch_x[:64]), True)\n",
    "print('Ground Truth:')\n",
    "make_latex_grid([ind2sym[label.item()] for label in batch_y[:64]])"
   ]
  },
  {
   "cell_type": "markdown",
   "metadata": {},
   "source": [
    "### Load Classifier"
   ]
  },
  {
   "cell_type": "code",
   "execution_count": 11,
   "metadata": {},
   "outputs": [],
   "source": [
    "from models import image_classifier\n",
    "classifier = image_classifier.load(os.path.join(ckpdir, \"classif.pth\"))"
   ]
  },
  {
   "cell_type": "code",
   "execution_count": 12,
   "metadata": {},
   "outputs": [
    {
     "name": "stdout",
     "output_type": "stream",
     "text": [
      "89.0625\n"
     ]
    }
   ],
   "source": [
    "output = classifier(batch_x)\n",
    "#print(output)\n",
    "p, pred = output.max(1)\n",
    "\n",
    "print(100*(pred == batch_y).sum().item()/len(pred))\n"
   ]
  },
  {
   "cell_type": "code",
   "execution_count": 13,
   "metadata": {},
   "outputs": [],
   "source": [
    "import importlib\n",
    "import main_hasy\n",
    "importlib.reload(main_hasy)\n",
    "from main_hasy import load_full_dataset"
   ]
  },
  {
   "cell_type": "markdown",
   "metadata": {},
   "source": [
    "### Load Masked Classifier"
   ]
  },
  {
   "cell_type": "code",
   "execution_count": 14,
   "metadata": {},
   "outputs": [],
   "source": [
    "import models\n",
    "importlib.reload(models)\n",
    "from models import masked_image_classifier\n",
    "\n",
    "mask_size = (10,10)\n",
    "\n",
    "model_path = os.path.join(ckpdir, \"mask_model_{}x{}.pth\").format(*mask_size)\n",
    "mask_model = masked_image_classifier.load(model_path)\n"
   ]
  },
  {
   "cell_type": "code",
   "execution_count": 6,
   "metadata": {},
   "outputs": [
    {
     "ename": "NameError",
     "evalue": "name 'ind2sym' is not defined",
     "output_type": "error",
     "traceback": [
      "\u001b[0;31m---------------------------------------------------------------------------\u001b[0m",
      "\u001b[0;31mNameError\u001b[0m                                 Traceback (most recent call last)",
      "\u001b[0;32m<ipython-input-6-c4058503fb70>\u001b[0m in \u001b[0;36m<module>\u001b[0;34m()\u001b[0m\n\u001b[1;32m     13\u001b[0m \u001b[0;32mfrom\u001b[0m \u001b[0mattrib_optim\u001b[0m \u001b[0;32mimport\u001b[0m \u001b[0mMCExplainer\u001b[0m\u001b[0;34m\u001b[0m\u001b[0m\n\u001b[1;32m     14\u001b[0m \u001b[0;32mimport\u001b[0m \u001b[0mre\u001b[0m\u001b[0;34m\u001b[0m\u001b[0m\n\u001b[0;32m---> 15\u001b[0;31m \u001b[0mclasses_tex\u001b[0m \u001b[0;34m=\u001b[0m \u001b[0;34m[\u001b[0m\u001b[0;34mr'${}$'\u001b[0m\u001b[0;34m.\u001b[0m\u001b[0mformat\u001b[0m\u001b[0;34m(\u001b[0m\u001b[0ms\u001b[0m\u001b[0;34m)\u001b[0m \u001b[0;32mfor\u001b[0m \u001b[0ms\u001b[0m \u001b[0;32min\u001b[0m \u001b[0mind2sym\u001b[0m\u001b[0;34m]\u001b[0m\u001b[0;34m\u001b[0m\u001b[0m\n\u001b[0m\u001b[1;32m     16\u001b[0m \u001b[0;34m\u001b[0m\u001b[0m\n\u001b[1;32m     17\u001b[0m \u001b[0mcrit_alpha\u001b[0m \u001b[0;34m=\u001b[0m \u001b[0;36m.1\u001b[0m\u001b[0;34m\u001b[0m\u001b[0m\n",
      "\u001b[0;31mNameError\u001b[0m: name 'ind2sym' is not defined"
     ]
    }
   ],
   "source": [
    "\n",
    "importlib.reload(matplotlib)\n",
    "matplotlib.use('PS')\n",
    "\n",
    "import matplotlib.pyplot as plt\n",
    "plt.rc('text', usetex=True)\n",
    "\n",
    "import utils\n",
    "importlib.reload(utils)\n",
    "\n",
    "import attrib_optim\n",
    "importlib.reload(attrib_optim)\n",
    "from attrib_optim import MCExplainer\n",
    "import re\n",
    "classes_tex = [r'${}$'.format(s) for s in ind2sym]\n",
    "\n",
    "crit_alpha = .1\n",
    "crit_p = 2\n",
    "reg_type = 'exp'\n",
    "Exp = MCExplainer(classifier, mask_model, classes = classes_tex,\n",
    "                  reg_type = reg_type,\n",
    "                  crit_alpha = crit_alpha,\n",
    "                  crit_p = crit_p, plot_type = 'treemap')\n",
    "\n",
    "# 12, 25, 30\n",
    "idx = 63\n",
    "x  = batch_x[idx:idx+1]\n",
    "print(classes_tex[batch_y[idx].item()])\n",
    "\n",
    "fx = classifier(x)\n",
    "p, pred = fx.max(1)\n",
    "\n",
    "plt.imshow(x.squeeze(), cmap='Greys')\n",
    "plt.title('Prediction: ' + classes_tex[pred] + ' (class no.{})'.format(pred.item()), fontsize = 20)\n",
    "plt.xticks([])\n",
    "plt.yticks([])\n",
    "plt.show()\n",
    "\n",
    "\n",
    "e = Exp.explain(x, pred.item(), verbose = 0 , show_plot = 1)\n",
    "\n",
    "\n",
    "# save_path = '../out/expl_hasy_id-{}_alpha-{}_'.format(idx, crit_alpha, crit_p)\n",
    "# e.plot(save_path = save_path)"
   ]
  },
  {
   "cell_type": "code",
   "execution_count": 25,
   "metadata": {},
   "outputs": [
    {
     "name": "stdout",
     "output_type": "stream",
     "text": [
      "Done!\n"
     ]
    },
    {
     "data": {
      "image/png": "[encoded data removed]",
      "text/plain": [
       "<Figure size 864x2592 with 27 Axes>"
      ]
     },
     "metadata": {},
     "output_type": "display_data"
    }
   ],
   "source": [
    "save_path = None\n",
    "#save_path = os.path.join(outdir, 'expl_id-{}_alpha-{}.pdf'.format(idx, crit_alpha, crit_p))\n",
    "e.plot(save_path = save_path)"
   ]
  },
  {
   "cell_type": "code",
   "execution_count": 64,
   "metadata": {},
   "outputs": [
    {
     "name": "stdout",
     "output_type": "stream",
     "text": [
      "Best objective:  -0.0137 (i = 18, j = 15)\n",
      "Best objective:  -0.0066 (i = 10, j =  6)\n",
      "Best objective:   0.0029 (i = 18, j = 10)\n",
      "Best objective:   0.0852 (i = 14, j = 17)\n",
      "Done!\n"
     ]
    },
    {
     "data": {
      "image/png": "[encoded data removed]",
      "text/plain": [
       "<Figure size 864x1152 with 12 Axes>"
      ]
     },
     "metadata": {},
     "output_type": "display_data"
    }
   ],
   "source": [
    "crit_alpha = 0.1\n",
    "crit_p = 2\n",
    "Exp = MCExplainer(classifier, mask_model, classes = classes_tex, crit_alpha = crit_alpha,\n",
    "                  crit_p = crit_p, plot_type = 'treemap')\n",
    "e = Exp.explain(x, pred.item(), verbose = 0 , show_plot = 0)\n",
    "save_path = os.path.join(outdir, 'expl_id-{}_alpha-{}.pdf'.format(idx, crit_alpha, crit_p))\n",
    "e.plot(save_path = save_path)"
   ]
  },
  {
   "cell_type": "markdown",
   "metadata": {},
   "source": [
    "# TRASH"
   ]
  },
  {
   "cell_type": "code",
   "execution_count": 35,
   "metadata": {},
   "outputs": [
    {
     "name": "stdout",
     "output_type": "stream",
     "text": [
      "[0.97388425 0.68611949 0.4218001  0.71742073 0.82178361 0.81825246\n",
      " 0.67009256 0.86179417 0.5560719  0.84256342]\n"
     ]
    },
    {
     "data": {
      "image/png": "[encoded data removed]",
      "text/plain": [
       "<Figure size 432x288 with 1 Axes>"
      ]
     },
     "metadata": {},
     "output_type": "display_data"
    }
   ],
   "source": [
    "import squarify\n",
    "a = np.random.rand(10)\n",
    "print(a)\n",
    "b = ['A','A','A','A','A','A','A','A','A','A']\n",
    "\n",
    "ax = squarify.plot(sizes=[13,22,35,5], label=[\"group A\", \"group B\", \"group C\", \"group D\"], alpha=.7 )\n",
    "plt.axis('off')\n",
    "plt.show() "
   ]
  },
  {
   "cell_type": "code",
   "execution_count": 389,
   "metadata": {},
   "outputs": [],
   "source": [
    "cmap = matplotlib.cm.get_cmap('Set3')"
   ]
  },
  {
   "cell_type": "code",
   "execution_count": 396,
   "metadata": {},
   "outputs": [
    {
     "data": {
      "text/plain": [
       "0"
      ]
     },
     "execution_count": 396,
     "metadata": {},
     "output_type": "execute_result"
    }
   ],
   "source": [
    "12 % cmap.N"
   ]
  },
  {
   "cell_type": "code",
   "execution_count": 301,
   "metadata": {},
   "outputs": [
    {
     "name": "stdout",
     "output_type": "stream",
     "text": [
      "<class 'shapely.geometry.polygon.Polygon'>\n"
     ]
    },
    {
     "data": {
      "text/plain": [
       "dict_keys(['_is_empty', '__geom__', '__p__', '_ndim', '_exterior'])"
      ]
     },
     "execution_count": 301,
     "metadata": {},
     "output_type": "execute_result"
    }
   ],
   "source": [
    "print(type(a))\n",
    "a.__dict__.keys()"
   ]
  },
  {
   "cell_type": "code",
   "execution_count": 265,
   "metadata": {},
   "outputs": [
    {
     "data": {
      "image/svg+xml": [
       "<svg xmlns=\"http://www.w3.org/2000/svg\" xmlns:xlink=\"http://www.w3.org/1999/xlink\" width=\"100.0\" height=\"100.0\" viewBox=\"50.736842105263165 -1.894736842105263 51.157894736842096 48.23391812865497\" preserveAspectRatio=\"xMinYMin meet\"><g transform=\"matrix(1,0,0,-1,0,44.44444444444445)\"><path fill-rule=\"evenodd\" fill=\"#66cc99\" stroke=\"#555555\" stroke-width=\"1.0231578947368418\" opacity=\"0.6\" d=\"M 100.0,0.0 L 100.0,44.44444444444445 L 52.631578947368425,44.44444444444445 L 52.631578947368425,0.0 L 100.0,0.0 z\" /></g></svg>"
      ],
      "text/plain": [
       "<shapely.geometry.polygon.Polygon at 0x7f88d8a53198>"
      ]
     },
     "execution_count": 265,
     "metadata": {},
     "output_type": "execute_result"
    }
   ],
   "source": [
    "a[1]"
   ]
  },
  {
   "cell_type": "code",
   "execution_count": 330,
   "metadata": {},
   "outputs": [
    {
     "name": "stdout",
     "output_type": "stream",
     "text": [
      "Rectangle(xy=(0, 0), width=52.6316, height=100, angle=0)\n",
      "Rectangle(xy=(52.6316, 0), width=47.3684, height=44.4444, angle=0)\n"
     ]
    },
    {
     "data": {
      "text/plain": [
       "<matplotlib.axes._subplots.AxesSubplot at 0x7f88d88f0f98>"
      ]
     },
     "execution_count": 330,
     "metadata": {},
     "output_type": "execute_result"
    },
    {
     "data": {
      "image/png": "[encoded data removed]",
      "text/plain": [
       "<Figure size 432x288 with 1 Axes>"
      ]
     },
     "metadata": {},
     "output_type": "display_data"
    }
   ],
   "source": [
    "importlib.reload(utils)\n",
    "from utils import treemap_boundary\n",
    "\n",
    "treemap_boundary(p, 2)\n",
    "\n"
   ]
  },
  {
   "cell_type": "code",
   "execution_count": 323,
   "metadata": {},
   "outputs": [
    {
     "name": "stdout",
     "output_type": "stream",
     "text": [
      "Rectangle(xy=(0, 0), width=52.6316, height=100, angle=0)\n",
      "Rectangle(xy=(52.6316, 0), width=47.3684, height=44.4444, angle=0)\n",
      "Rectangle(xy=(52.6316, 44.4444), width=23.6842, height=44.4444, angle=0)\n",
      "Rectangle(xy=(76.3158, 44.4444), width=23.6842, height=44.4444, angle=0)\n",
      "Rectangle(xy=(52.6316, 88.8889), width=47.3684, height=11.1111, angle=0)\n"
     ]
    },
    {
     "data": {
      "text/plain": [
       "<matplotlib.axes._subplots.AxesSubplot at 0x7f889d8a94a8>"
      ]
     },
     "execution_count": 323,
     "metadata": {},
     "output_type": "execute_result"
    },
    {
     "data": {
      "image/png": "[encoded data removed]",
      "text/plain": [
       "<Figure size 432x288 with 1 Axes>"
      ]
     },
     "metadata": {},
     "output_type": "display_data"
    }
   ],
   "source": [
    "from pprint import pprint\n",
    "#from matplotlib.patches import Polygon\n",
    "#from scipy.spatial import ConvexHull\n",
    "#from UliEngineering.Math.Coordinates import BoundingBox\n",
    "\n",
    "# def rect_union(R1, R2):\n",
    "#     \"\"\"\n",
    "#         Ri = [x0, x1, y0, y1]\n",
    "#     \"\"\"\n",
    "#     bdy = []\n",
    "    \n",
    "#     if R1[0]\n",
    "\n",
    "    \n",
    "    \n",
    "    \n",
    "    \n",
    "    #print(d)\n",
    "    # Boundaries\n",
    "#     if boundary is not None:\n",
    "#         eps = 0.25\n",
    "#         ax.axvline(x=0 + eps, ymin = 0, ymax = 1, c= 'red')\n",
    "#         ax.axhline(y=100 - eps, xmin = 0, xmax = x[1]/100, c= 'red')\n",
    "        \n",
    "#         if len(boundary) == 1:\n",
    "#             ax.axhline(y=0, xmin = 0, xmax = x[1]/100, c= 'red')\n",
    "#             ax.axvline(x=x[1], ymin = y[2]/100, ymax = 1, c= 'red')\n",
    "#         #elif len(boundary) == 2:\n",
    "            \n",
    "            \n",
    "#         d = rects[1]\n",
    "#         ax.axvline(x=x[1], ymin = y[2]/100, ymax = 1, c= 'red')\n",
    "\n",
    "#         #print(d)\n",
    "#         ax.axhline(y=y[2], xmin = x[1]/100, xmax = 1, c= 'red')\n",
    "    eps= 0.25\n",
    "    #pp = [[0+eps,0+eps], [0+eps,100-eps]]\n",
    "    pp = []\n",
    "    for i,b in enumerate(br[:boundary]):\n",
    "        print(b)\n",
    "        w,h = b.get_width(), b.get_height()\n",
    "        x0, y0 = b.xy\n",
    "        LL = (x0, y0)  # lower left vertex\n",
    "        LR = x0+w,y0   # lower right vertex\n",
    "        TL = x0,y0+h   # top left vertex\n",
    "        TR = x0+w,y0+h # top right vertex\n",
    "        print(i, LL, LR, TL, TR)\n",
    "        pp.extend((LL, LR, TL, TR))\n",
    "        \n",
    "        \n",
    "    pp = BoundingBox(np.array(pp))\n",
    "    return pp\n",
    "    \n",
    "    \n",
    "#     hull = ConvexHull(pp)\n",
    "#     pp_ordered = [pp[i] for i in hull.vertices]\n",
    "#     print(pp_ordered)\n",
    "#     pp = pp_ordered\n",
    "    #pp = [(pp[s,0], pp[]]\n",
    "    #return hull\n",
    "    #print(asd.asdasd)\n",
    "#     if boundary == 1:\n",
    "#         pp.append([x[1], 0+eps])\n",
    "#         pp.append([x[1], 100-eps])\n",
    "#     elif len(boundary) == 2:\n",
    "#         pp.append([])\n",
    "        \n",
    "#     for i in range(boundary):\n",
    "#         # Add all corners of this bar\n",
    "#         sw = [x[i]  , y[i]]\n",
    "#         se = [x[i+1], y[i]]\n",
    "#         ne = [x[i+1], y[i+1]]\n",
    "#         nw = \n",
    "    print(pp)\n",
    "    # Sort points according to poolar coordinates to get coherent boundary (no crossing)\n",
    "    # compute centroid\n",
    "    #cent=(sum([p[0] for p in pp])/len(pp),sum([p[1] for p in pp])/len(pp))\n",
    "    #sort by polar angle\n",
    "    #pp.sort(key=lambda p: math.atan2(p[1]-cent[1],p[0]-cent[0]))\n",
    "    \n",
    "    print(pp)\n",
    "    ax.add_patch(Polygon(pp, True, facecolor = 'none', edgecolor = 'r', linewidth = 1.5))\n",
    "\n",
    "\n",
    "    ax.set_xlim(0, norm_x)\n",
    "    ax.set_ylim(0, norm_y)\n",
    "    \n",
    "\n",
    "    #plt.show()\n",
    "    \n",
    "    return ax\n",
    "    \n",
    "    \n",
    "p = [0.5,0.2,0.1,0.1,0.05]\n",
    "a = treemap(p, boundary = 5)\n",
    "a"
   ]
  },
  {
   "cell_type": "code",
   "execution_count": 292,
   "metadata": {},
   "outputs": [
    {
     "data": {
      "image/svg+xml": [
       "<svg xmlns=\"http://www.w3.org/2000/svg\" xmlns:xlink=\"http://www.w3.org/1999/xlink\" width=\"108.0\" height=\"108.0\" viewBox=\"-4.0 -4.0 108.0 108.0\" preserveAspectRatio=\"xMinYMin meet\"><g transform=\"matrix(1,0,0,-1,0,100.0)\"><path fill-rule=\"evenodd\" fill=\"#66cc99\" stroke=\"#555555\" stroke-width=\"2.0\" opacity=\"0.6\" d=\"M 76.31578947368422,44.44444444444445 L 100.0,44.44444444444445 L 100.0,0.0 L 52.631578947368425,0.0 L 0.0,0.0 L 0.0,100.0 L 52.631578947368425,100.0 L 52.631578947368425,88.8888888888889 L 76.31578947368422,88.8888888888889 L 76.31578947368422,44.44444444444445 z\" /></g></svg>"
      ],
      "text/plain": [
       "<shapely.geometry.polygon.Polygon at 0x7f88a1f45470>"
      ]
     },
     "execution_count": 292,
     "metadata": {},
     "output_type": "execute_result"
    }
   ],
   "source": [
    "A"
   ]
  },
  {
   "cell_type": "code",
   "execution_count": 294,
   "metadata": {},
   "outputs": [
    {
     "name": "stdout",
     "output_type": "stream",
     "text": [
      "<class 'shapely.geometry.polygon.LinearRing'>\n"
     ]
    },
    {
     "data": {
      "image/svg+xml": [
       "<svg xmlns=\"http://www.w3.org/2000/svg\" xmlns:xlink=\"http://www.w3.org/1999/xlink\" width=\"108.0\" height=\"108.0\" viewBox=\"-4.0 -4.0 108.0 108.0\" preserveAspectRatio=\"xMinYMin meet\"><g transform=\"matrix(1,0,0,-1,0,100.0)\"><polyline fill=\"none\" stroke=\"#66cc99\" stroke-width=\"2.0\" points=\"76.31578947368422,44.44444444444445 100.0,44.44444444444445 100.0,0.0 52.631578947368425,0.0 0.0,0.0 0.0,100.0 52.631578947368425,100.0 52.631578947368425,88.8888888888889 76.31578947368422,88.8888888888889 76.31578947368422,44.44444444444445\" opacity=\"0.8\" /></g></svg>"
      ],
      "text/plain": [
       "<shapely.geometry.polygon.LinearRing at 0x7f888daef0b8>"
      ]
     },
     "execution_count": 294,
     "metadata": {},
     "output_type": "execute_result"
    }
   ],
   "source": [
    "print(type(A.exterior))\n",
    "A.exterior"
   ]
  },
  {
   "cell_type": "code",
   "execution_count": 295,
   "metadata": {},
   "outputs": [
    {
     "name": "stdout",
     "output_type": "stream",
     "text": [
      "<class 'shapely.geometry.linestring.LineString'>\n"
     ]
    },
    {
     "data": {
      "image/svg+xml": [
       "<svg xmlns=\"http://www.w3.org/2000/svg\" xmlns:xlink=\"http://www.w3.org/1999/xlink\" width=\"108.0\" height=\"108.0\" viewBox=\"-4.0 -4.0 108.0 108.0\" preserveAspectRatio=\"xMinYMin meet\"><g transform=\"matrix(1,0,0,-1,0,100.0)\"><polyline fill=\"none\" stroke=\"#66cc99\" stroke-width=\"2.0\" points=\"76.31578947368422,44.44444444444445 100.0,44.44444444444445 100.0,0.0 52.631578947368425,0.0 0.0,0.0 0.0,100.0 52.631578947368425,100.0 52.631578947368425,88.8888888888889 76.31578947368422,88.8888888888889 76.31578947368422,44.44444444444445\" opacity=\"0.8\" /></g></svg>"
      ],
      "text/plain": [
       "<shapely.geometry.linestring.LineString at 0x7f88a1f332b0>"
      ]
     },
     "execution_count": 295,
     "metadata": {},
     "output_type": "execute_result"
    }
   ],
   "source": [
    "print(type(A.boundary))\n",
    "A.boundary"
   ]
  },
  {
   "cell_type": "code",
   "execution_count": 315,
   "metadata": {},
   "outputs": [
    {
     "data": {
      "image/png": "[encoded data removed]",
      "text/plain": [
       "<Figure size 432x288 with 1 Axes>"
      ]
     },
     "metadata": {},
     "output_type": "display_data"
    }
   ],
   "source": [
    "fig, ax = plt.subplots()\n",
    "plot_coords(ax, a.exterior)\n",
    "plot_line(ax, a.exterior)"
   ]
  },
  {
   "cell_type": "code",
   "execution_count": 186,
   "metadata": {},
   "outputs": [
    {
     "name": "stdout",
     "output_type": "stream",
     "text": [
      "[[  0.           0.        ]\n",
      " [ 52.63157895   0.        ]\n",
      " [  0.         100.        ]\n",
      " [ 52.63157895 100.        ]\n",
      " [ 52.63157895   0.        ]\n",
      " [100.           0.        ]\n",
      " [ 52.63157895  44.44444444]\n",
      " [100.          44.44444444]\n",
      " [ 52.63157895  44.44444444]\n",
      " [ 76.31578947  44.44444444]\n",
      " [ 52.63157895  88.88888889]\n",
      " [ 76.31578947  88.88888889]]\n",
      "[[0.04269014 0.82418055]\n",
      " [0.2617125  0.25970897]\n",
      " [0.6317549  0.17123628]\n",
      " [0.61149181 0.14928899]\n",
      " [0.90512332 0.34096702]\n",
      " [0.42087291 0.454543  ]\n",
      " [0.38677152 0.18106148]\n",
      " [0.03090211 0.44642644]\n",
      " [0.85251366 0.09171491]\n",
      " [0.91697304 0.20188435]\n",
      " [0.76591556 0.74009373]\n",
      " [0.85032029 0.97926375]\n",
      " [0.02776703 0.63265137]\n",
      " [0.222518   0.60432412]\n",
      " [0.63020776 0.51733859]\n",
      " [0.38146717 0.71337954]\n",
      " [0.47230637 0.19676597]\n",
      " [0.70258565 0.54505073]\n",
      " [0.3221161  0.949995  ]\n",
      " [0.14031639 0.71653338]\n",
      " [0.49992088 0.70099423]\n",
      " [0.85881103 0.48618666]\n",
      " [0.37822469 0.47626011]\n",
      " [0.80455127 0.57439235]\n",
      " [0.53845731 0.02304732]\n",
      " [0.21997526 0.02278133]\n",
      " [0.24125052 0.29172522]\n",
      " [0.72425231 0.33608098]\n",
      " [0.03660864 0.04713952]\n",
      " [0.77308381 0.07297627]]\n",
      "[[28 12]\n",
      " [18 11]\n",
      " [ 4  9]\n",
      " [ 4 11]\n",
      " [ 0 12]\n",
      " [ 0 18]\n",
      " [ 8  9]\n",
      " [25 28]\n",
      " [25 24]\n",
      " [29 24]\n",
      " [29  8]]\n"
     ]
    }
   ],
   "source": [
    "print(a.points)\n",
    "points = np.random.rand(30, 2)\n",
    "print(points)\n",
    "hull = ConvexHull(points)\n",
    "print(hull.simplices)"
   ]
  },
  {
   "cell_type": "code",
   "execution_count": 91,
   "metadata": {},
   "outputs": [
    {
     "data": {
      "text/plain": [
       "(0, 100)"
      ]
     },
     "execution_count": 91,
     "metadata": {},
     "output_type": "execute_result"
    },
    {
     "data": {
      "image/png": "[encoded data removed]",
      "text/plain": [
       "<Figure size 432x288 with 1 Axes>"
      ]
     },
     "metadata": {},
     "output_type": "display_data"
    }
   ],
   "source": [
    "from pprint import pprint\n",
    "from squarify import pad_rectangle, normalize_sizes\n",
    "import random\n",
    "cmap = matplotlib.cm.get_cmap()\n",
    "ax = plt.gca()\n",
    "p = [0.5,0.2,0.1,0.1,0.05]\n",
    "norm_x = 100\n",
    "norm_y = 100\n",
    "label=[\"group A\", \"group B\", \"group C\", \"group D\", \"group E\"]\n",
    "normed = normalize_sizes(p, norm_x, norm_y)\n",
    "rects = squarify.squarify(normed, 0, 0, norm_x, norm_y)\n",
    "# for rect in rects[:2]:\n",
    "#     pad_rectangle(rect)\n",
    "x = [rect['x'] for rect in rects]\n",
    "y = [rect['y'] for rect in rects]\n",
    "dx = [rect['dx'] for rect in rects]\n",
    "dy = [rect['dy'] for rect in rects]\n",
    "color = [cmap(random.random()) for i in range(len(p))]\n",
    "ax.bar(x, dy, width=dx, bottom=y, color=color,\n",
    "label=label, align='edge')\n",
    "\n",
    "\n",
    "ax.set_xlim(0, norm_x)\n",
    "ax.set_ylim(0, norm_y)"
   ]
  },
  {
   "cell_type": "code",
   "execution_count": 49,
   "metadata": {},
   "outputs": [
    {
     "name": "stdout",
     "output_type": "stream",
     "text": [
      "tensor([ 94])\n",
      "tensor([-18.6903, -16.7204, -15.6313]) tensor(-16.7204)\n"
     ]
    },
    {
     "data": {
      "text/plain": [
       "'$\\\\xi$'"
      ]
     },
     "execution_count": 49,
     "metadata": {},
     "output_type": "execute_result"
    }
   ],
   "source": [
    "print(pred)\n",
    "print(fx[0,208:211], fx[0,209])\n",
    "classes_tex[pred]"
   ]
  },
  {
   "cell_type": "code",
   "execution_count": 69,
   "metadata": {},
   "outputs": [
    {
     "data": {
      "image/png": "[encoded data removed]",
      "text/latex": [
       "$$\\int \\sqrt{\\frac{1}{x}}\\, dx$$"
      ],
      "text/plain": [
       "⌠           \n",
       "⎮     ___   \n",
       "⎮    ╱ 1    \n",
       "⎮   ╱  ─  dx\n",
       "⎮ ╲╱   x    \n",
       "⌡           "
      ]
     },
     "execution_count": 69,
     "metadata": {},
     "output_type": "execute_result"
    }
   ],
   "source": [
    "import sympy\n",
    "x, y, z = sympy.symbols('x y z')\n",
    "sympy.init_printing()\n",
    "sympy.Integral(sympy.sqrt(1/x), x)"
   ]
  },
  {
   "cell_type": "code",
   "execution_count": 66,
   "metadata": {},
   "outputs": [
    {
     "name": "stdout",
     "output_type": "stream",
     "text": [
      "['k', '\\\\mathcal{H}', '\\\\mathcal{L}', '\\\\mathcal{M}', '\\\\mathcal{N}', '\\\\mathcal{O}', '\\\\mathcal{P}', 'l', '\\\\mathcal{R}', '\\\\mathcal{S}']\n"
     ]
    },
    {
     "data": {
      "image/png": "[encoded data removed]",
      "text/plain": [
       "<Figure size 432x288 with 1 Axes>"
      ]
     },
     "metadata": {},
     "output_type": "display_data"
    }
   ],
   "source": [
    "print(ind2sym[:10])\n",
    "\n",
    "ax = plt.axes([0,0,0.1,0.2]) #left,bottom,width,height\n",
    "ax.set_xticks([])\n",
    "ax.set_yticks([])\n",
    "plt.text(0.3, 0.4, '$%s$' % ind2sym[2], size = 40)\n",
    "plt.show()"
   ]
  },
  {
   "cell_type": "code",
   "execution_count": 170,
   "metadata": {},
   "outputs": [
    {
     "name": "stdout",
     "output_type": "stream",
     "text": [
      "(array([0, 0, 0, 1, 0, 1, 0, 0, 1, 0, 0, 0, 0, 0, 0, 0, 0, 0, 0, 0, 1, 0,\n",
      "       0, 0, 0, 0, 0, 0, 0, 0, 1, 0, 0, 1, 0, 0, 0, 0, 0, 0, 1, 0, 0, 0,\n",
      "       0, 0, 0, 0, 0, 0, 0, 0, 0, 0, 0, 0, 0, 0, 1, 0, 2, 0, 0, 0, 0, 0,\n",
      "       0, 0, 0, 0, 0, 0, 0, 0, 0, 0, 0, 0, 1, 1, 1, 0, 0, 1, 0, 1, 0, 0,\n",
      "       0, 0, 1, 0, 0, 1, 2, 0, 1, 0, 0, 0, 0, 0, 0, 1, 0, 0, 0, 0, 2, 2,\n",
      "       0, 0, 1, 0, 0, 0, 0, 0, 0, 3, 0, 0, 0, 0, 0, 0, 0, 0, 0, 0, 0, 0,\n",
      "       0, 1, 0, 0, 0, 0, 0, 0, 0, 0, 0, 0, 0, 0, 1, 0, 0, 0, 0, 0, 0, 0,\n",
      "       0, 0, 0, 0, 0, 0, 0, 0, 0, 0, 0, 0, 0, 0, 1, 1, 0, 0, 0, 0, 0, 1,\n",
      "       0, 0, 0, 0, 0, 0, 0, 0, 0, 0, 0, 0, 0, 0, 0, 0, 0, 0, 0, 0, 0, 0,\n",
      "       0, 0, 0, 0, 0, 0, 0, 0, 0, 1, 0, 0, 0, 0, 0, 0, 0, 1, 0, 0, 0, 0,\n",
      "       0, 0, 0, 0, 1, 1, 0, 0, 0, 1, 0, 0, 0, 0, 0, 0, 0, 0, 1, 0, 0, 0,\n",
      "       0, 0, 0, 1, 0, 0, 0, 0, 0, 0, 0, 0, 0, 0, 0, 0, 0, 1, 0, 0, 2, 0,\n",
      "       0, 0, 0, 0, 0, 0, 2, 2, 0, 0, 0, 1, 0, 1, 0, 0, 0, 0, 0, 0, 0, 0,\n",
      "       0, 0, 1, 0, 1, 0, 0, 1, 0, 0, 0, 1, 0, 0, 1, 1, 0, 0, 0, 1, 0, 1,\n",
      "       0, 0, 0, 0, 0, 0, 0, 0, 0, 0, 0, 0, 0, 0, 0, 0, 0, 1, 2, 0, 0, 0,\n",
      "       0, 0, 0, 0, 0, 2, 0, 0, 0, 0, 0, 0, 0, 0, 0, 0, 0, 0, 0, 0, 0, 0,\n",
      "       1, 0, 0, 0, 0, 0, 0, 0, 0, 0, 0, 0, 0, 0, 0, 0]), array([  0,   1,   2,   3,   4,   5,   6,   7,   8,   9,  10,  11,  12,\n",
      "        13,  14,  15,  16,  17,  18,  19,  20,  21,  22,  23,  24,  25,\n",
      "        26,  27,  28,  29,  30,  31,  32,  33,  34,  35,  36,  37,  38,\n",
      "        39,  40,  41,  42,  43,  44,  45,  46,  47,  48,  49,  50,  51,\n",
      "        52,  53,  54,  55,  56,  57,  58,  59,  60,  61,  62,  63,  64,\n",
      "        65,  66,  67,  68,  69,  70,  71,  72,  73,  74,  75,  76,  77,\n",
      "        78,  79,  80,  81,  82,  83,  84,  85,  86,  87,  88,  89,  90,\n",
      "        91,  92,  93,  94,  95,  96,  97,  98,  99, 100, 101, 102, 103,\n",
      "       104, 105, 106, 107, 108, 109, 110, 111, 112, 113, 114, 115, 116,\n",
      "       117, 118, 119, 120, 121, 122, 123, 124, 125, 126, 127, 128, 129,\n",
      "       130, 131, 132, 133, 134, 135, 136, 137, 138, 139, 140, 141, 142,\n",
      "       143, 144, 145, 146, 147, 148, 149, 150, 151, 152, 153, 154, 155,\n",
      "       156, 157, 158, 159, 160, 161, 162, 163, 164, 165, 166, 167, 168,\n",
      "       169, 170, 171, 172, 173, 174, 175, 176, 177, 178, 179, 180, 181,\n",
      "       182, 183, 184, 185, 186, 187, 188, 189, 190, 191, 192, 193, 194,\n",
      "       195, 196, 197, 198, 199, 200, 201, 202, 203, 204, 205, 206, 207,\n",
      "       208, 209, 210, 211, 212, 213, 214, 215, 216, 217, 218, 219, 220,\n",
      "       221, 222, 223, 224, 225, 226, 227, 228, 229, 230, 231, 232, 233,\n",
      "       234, 235, 236, 237, 238, 239, 240, 241, 242, 243, 244, 245, 246,\n",
      "       247, 248, 249, 250, 251, 252, 253, 254, 255, 256, 257, 258, 259,\n",
      "       260, 261, 262, 263, 264, 265, 266, 267, 268, 269, 270, 271, 272,\n",
      "       273, 274, 275, 276, 277, 278, 279, 280, 281, 282, 283, 284, 285,\n",
      "       286, 287, 288, 289, 290, 291, 292, 293, 294, 295, 296, 297, 298,\n",
      "       299, 300, 301, 302, 303, 304, 305, 306, 307, 308, 309, 310, 311,\n",
      "       312, 313, 314, 315, 316, 317, 318, 319, 320, 321, 322, 323, 324,\n",
      "       325, 326, 327, 328, 329, 330, 331, 332, 333, 334, 335, 336, 337,\n",
      "       338, 339, 340, 341, 342, 343, 344, 345, 346, 347, 348, 349, 350,\n",
      "       351, 352, 353, 354, 355, 356, 357, 358, 359, 360, 361, 362, 363,\n",
      "       364, 365, 366, 367, 368]))\n",
      "(array([ 0,  0,  0,  0,  0,  0,  0,  0,  0,  0,  0,  0,  0,  0,  0,  0,  0,\n",
      "        0,  0,  0,  0,  0,  0,  0,  0,  0,  0,  0,  0,  0,  2,  0,  0,  0,\n",
      "        0,  0,  0,  0,  0,  0,  0,  0,  0,  0,  0,  0,  0,  0,  0,  0,  0,\n",
      "        0,  0,  0,  0,  0,  0,  0,  0,  0,  0,  0,  0,  0,  0,  0,  0,  0,\n",
      "        0,  0,  0,  0,  0,  0,  0,  0,  0,  0,  0,  2,  0,  0,  0,  0,  0,\n",
      "        0,  0,  0,  0,  0,  0,  0,  0,  0,  1,  0,  0,  0,  0,  0,  0,  0,\n",
      "        0,  0,  0,  0,  0,  0,  0,  6,  4,  0,  0,  0,  0,  0,  0,  1,  0,\n",
      "        0,  0,  0,  0,  0,  0,  0,  0,  0,  0,  0,  0,  0,  0,  0,  0,  0,\n",
      "        0,  0,  0,  0,  0,  0,  0,  0,  0,  0,  0,  0,  0,  0,  0,  0,  0,\n",
      "        0,  0,  0,  0,  0,  0,  0,  0,  0,  0,  0,  0,  0,  0,  0,  0,  4,\n",
      "        0,  0,  0,  0,  0,  0,  0,  0,  0,  0,  0,  1,  0,  0,  0,  0,  0,\n",
      "        0,  0,  0,  0,  0,  0,  0,  0,  0,  0,  0,  0,  0,  0,  0,  0,  0,\n",
      "        0,  0,  0,  0,  4,  0, 12,  0,  0,  0,  0,  0,  0,  0,  0,  0,  0,\n",
      "        2, 13,  0,  0,  0,  0,  0,  0,  0,  0,  0,  0,  0,  0,  0,  0,  0,\n",
      "        0,  0,  0,  0,  0,  0,  0,  0,  0,  0,  0,  0,  0,  0,  0,  0,  0,\n",
      "        0,  0,  0,  0,  0,  0,  0,  0,  0,  0,  0,  0,  0,  0,  0,  0,  0,\n",
      "        0,  0,  0,  0,  0,  0,  0,  0,  0,  0,  0,  0,  0,  0,  0,  0,  1,\n",
      "        0,  0,  0,  0,  0,  0,  0,  0,  0,  1,  0,  1,  0,  0,  0,  0,  6,\n",
      "        0,  0,  0,  0,  0,  0,  0,  0,  0,  0,  0,  0,  0,  0,  0,  0,  0,\n",
      "        0,  0,  0,  0,  0,  0,  0,  0,  0,  0,  0,  0,  2,  0,  0,  0,  0,\n",
      "        0,  0,  0,  1,  0,  0,  0,  0,  0,  0,  0,  0,  0,  0,  0,  0,  0,\n",
      "        0,  0,  0,  0,  0,  0,  0,  0,  0,  0,  0]), array([  0,   1,   2,   3,   4,   5,   6,   7,   8,   9,  10,  11,  12,\n",
      "        13,  14,  15,  16,  17,  18,  19,  20,  21,  22,  23,  24,  25,\n",
      "        26,  27,  28,  29,  30,  31,  32,  33,  34,  35,  36,  37,  38,\n",
      "        39,  40,  41,  42,  43,  44,  45,  46,  47,  48,  49,  50,  51,\n",
      "        52,  53,  54,  55,  56,  57,  58,  59,  60,  61,  62,  63,  64,\n",
      "        65,  66,  67,  68,  69,  70,  71,  72,  73,  74,  75,  76,  77,\n",
      "        78,  79,  80,  81,  82,  83,  84,  85,  86,  87,  88,  89,  90,\n",
      "        91,  92,  93,  94,  95,  96,  97,  98,  99, 100, 101, 102, 103,\n",
      "       104, 105, 106, 107, 108, 109, 110, 111, 112, 113, 114, 115, 116,\n",
      "       117, 118, 119, 120, 121, 122, 123, 124, 125, 126, 127, 128, 129,\n",
      "       130, 131, 132, 133, 134, 135, 136, 137, 138, 139, 140, 141, 142,\n",
      "       143, 144, 145, 146, 147, 148, 149, 150, 151, 152, 153, 154, 155,\n",
      "       156, 157, 158, 159, 160, 161, 162, 163, 164, 165, 166, 167, 168,\n",
      "       169, 170, 171, 172, 173, 174, 175, 176, 177, 178, 179, 180, 181,\n",
      "       182, 183, 184, 185, 186, 187, 188, 189, 190, 191, 192, 193, 194,\n",
      "       195, 196, 197, 198, 199, 200, 201, 202, 203, 204, 205, 206, 207,\n",
      "       208, 209, 210, 211, 212, 213, 214, 215, 216, 217, 218, 219, 220,\n",
      "       221, 222, 223, 224, 225, 226, 227, 228, 229, 230, 231, 232, 233,\n",
      "       234, 235, 236, 237, 238, 239, 240, 241, 242, 243, 244, 245, 246,\n",
      "       247, 248, 249, 250, 251, 252, 253, 254, 255, 256, 257, 258, 259,\n",
      "       260, 261, 262, 263, 264, 265, 266, 267, 268, 269, 270, 271, 272,\n",
      "       273, 274, 275, 276, 277, 278, 279, 280, 281, 282, 283, 284, 285,\n",
      "       286, 287, 288, 289, 290, 291, 292, 293, 294, 295, 296, 297, 298,\n",
      "       299, 300, 301, 302, 303, 304, 305, 306, 307, 308, 309, 310, 311,\n",
      "       312, 313, 314, 315, 316, 317, 318, 319, 320, 321, 322, 323, 324,\n",
      "       325, 326, 327, 328, 329, 330, 331, 332, 333, 334, 335, 336, 337,\n",
      "       338, 339, 340, 341, 342, 343, 344, 345, 346, 347, 348, 349, 350,\n",
      "       351, 352, 353, 354, 355, 356, 357, 358, 359, 360, 361, 362, 363,\n",
      "       364, 365, 366, 367, 368]))\n"
     ]
    }
   ],
   "source": [
    "print(np.histogram(batch_y.numpy(), bins = range(369)))\n",
    "print(np.histogram(pred.numpy(), bins = range(369)))"
   ]
  },
  {
   "cell_type": "code",
   "execution_count": 17,
   "metadata": {},
   "outputs": [
    {
     "data": {
      "image/png": "[encoded data removed]",
      "text/plain": [
       "<Figure size 432x288 with 1 Axes>"
      ]
     },
     "metadata": {},
     "output_type": "display_data"
    },
    {
     "data": {
      "image/png": "[encoded data removed]",
      "text/plain": [
       "<Figure size 432x288 with 1 Axes>"
      ]
     },
     "metadata": {},
     "output_type": "display_data"
    },
    {
     "name": "stdout",
     "output_type": "stream",
     "text": [
      "torch.Size([64, 369])\n"
     ]
    }
   ],
   "source": [
    "## DEBUG\n",
    "V = np.array(list(range(0,369)))\n",
    "mask = torch.zeros(32, 32) # FIXME: SHOULD BE TRUE ZERO\n",
    "min_S = np.s_[15:23,15:23]\n",
    "mask[min_S[0],min_S[1]] = 1\n",
    "w,h = 10, 10\n",
    "ii = list(range(32)[min_S[0]])[0]\n",
    "jj = list(range(32)[min_S[1]])[0]\n",
    "\n",
    "X_s = batch_x*mask.view(1,1,32,32).repeat(batch_x.shape[0], 1, 1, 1)\n",
    "\n",
    "\n",
    "tensorshow(make_grid(batch_x), True)\n",
    "\n",
    "tensorshow(make_grid(X_s), True)\n",
    "# print('Ground Truth :')\n",
    "# display(Math(' '.join('%5s' % ind2sym[label.item()]\n",
    "#                                  for label in batch_y)))\n",
    "\n",
    "\n",
    "#make_latex_grid([ind2sym[label.item()] for label in batch_y[:64]])\n",
    "\n",
    "\n",
    "output = mask_model(X_s)\n",
    "\n",
    "print(output.shape)\n",
    "#X_s = mnist_unnormalize(x)*mask.view(1,1,28,28).repeat(x.shape[0], 1, 1, 1)\n",
    "#output = mask_model(mnist_normalize(X_s))"
   ]
  },
  {
   "cell_type": "code",
   "execution_count": 18,
   "metadata": {},
   "outputs": [
    {
     "name": "stdout",
     "output_type": "stream",
     "text": [
      "tensor([[ 5.3219e-04,  2.2969e-03,  3.0842e-03,  ...,  2.2933e-03,\n",
      "          6.2287e-03,  4.4263e-04],\n",
      "        [ 1.0141e-03,  1.9694e-03,  6.3607e-03,  ...,  1.1552e-03,\n",
      "          1.9871e-03,  5.5862e-04],\n",
      "        [ 1.0248e-03,  7.4329e-03,  2.3970e-03,  ...,  2.9096e-03,\n",
      "          4.1543e-03,  2.7129e-03],\n",
      "        ...,\n",
      "        [ 4.5216e-05,  1.9386e-03,  1.0785e-04,  ...,  8.4056e-04,\n",
      "          3.4177e-03,  9.1307e-05],\n",
      "        [ 1.7895e-04,  1.6158e-03,  3.5290e-04,  ...,  7.8757e-04,\n",
      "          3.1749e-03,  5.0060e-04],\n",
      "        [ 2.5445e-04,  4.2596e-04,  1.4103e-03,  ...,  4.8928e-04,\n",
      "          6.2369e-04,  5.8787e-04]])\n",
      "tensor([ 0.1274,  0.2123,  0.0863,  0.1037,  0.0844,  0.1518,  0.1506,\n",
      "         0.0441,  0.1086,  0.1575,  0.0562,  0.0562,  0.0781,  0.3415,\n",
      "         0.2338,  0.0377,  0.1532,  0.1239,  0.1862,  0.0579,  0.1353,\n",
      "         0.1195,  0.0979,  0.1325,  0.0562,  0.1355,  0.1546,  0.0933,\n",
      "         0.2277,  0.1458,  0.1877,  0.2623,  0.3596,  0.0866,  0.0562,\n",
      "         0.0562,  0.0562,  0.1191,  0.1717,  0.0562,  0.0562,  0.0960,\n",
      "         0.0420,  0.2112,  0.1703,  0.0766,  0.0562,  0.0562,  0.1793,\n",
      "         0.0562,  0.1188,  0.0562,  0.1514,  0.3266,  0.0528,  0.0562,\n",
      "         0.1174,  0.1951,  0.0974,  0.0756,  0.1609,  0.1355,  0.0990,\n",
      "         0.1298])\n",
      "tensor([ 110,  109,  208,  210,  305,  222,  305,  288,  305,  109,\n",
      "         210,  210,  343,  110,  222,   94,  172,  305,  222,  298,\n",
      "         305,  298,  172,  305,  210,  305,  270,  305,  110,  305,\n",
      "          30,  110,  222,  298,  210,  210,  210,  210,  178,  210,\n",
      "         210,  305,  108,  222,  178,   27,  210,  210,  109,  210,\n",
      "         109,  210,  178,  208,   27,  210,  169,  109,  222,  169,\n",
      "         109,  305,  222,  117])\n"
     ]
    }
   ],
   "source": [
    "print(output)\n",
    "p, pred = output.max(1)\n",
    "print(p)\n",
    "print(pred)\n",
    "\n",
    "\n",
    "\n"
   ]
  },
  {
   "cell_type": "code",
   "execution_count": 201,
   "metadata": {},
   "outputs": [
    {
     "name": "stdout",
     "output_type": "stream",
     "text": [
      "Rectangle(0.5, 0.5, 1, 1)\n",
      "[Rectangle(0, 0, 0.5, 0.5), Rectangle(0, 0.5, 0.5, 1), Rectangle(0.5, 0, 1, 0.5)]\n",
      "Rectangle(0.25, 0.25, 0.75, 0.75)\n",
      "[Rectangle(0, 0, 0.25, 0.25), Rectangle(0, 0.25, 0.25, 0.75), Rectangle(0, 0.75, 0.25, 1), Rectangle(0.25, 0, 0.75, 0.25), Rectangle(0.25, 0.75, 0.75, 1), Rectangle(0.75, 0, 1, 0.25), Rectangle(0.75, 0.25, 1, 0.75), Rectangle(0.75, 0.75, 1, 1)]\n"
     ]
    }
   ],
   "source": [
    "import itertools\n",
    "\n",
    "class Rectangle:\n",
    "    def intersection(self, other):\n",
    "        a, b = self, other\n",
    "        x1 = max(min(a.x1, a.x2), min(b.x1, b.x2))\n",
    "        y1 = max(min(a.y1, a.y2), min(b.y1, b.y2))\n",
    "        x2 = min(max(a.x1, a.x2), max(b.x1, b.x2))\n",
    "        y2 = min(max(a.y1, a.y2), max(b.y1, b.y2))\n",
    "        if x1<x2 and y1<y2:\n",
    "            return type(self)(x1, y1, x2, y2)\n",
    "    __and__ = intersection\n",
    "\n",
    "    def difference(self, other):\n",
    "        inter = self&other\n",
    "        if not inter:\n",
    "            yield self\n",
    "            return\n",
    "        xs = {self.x1, self.x2}\n",
    "        ys = {self.y1, self.y2}\n",
    "        if self.x1<other.x1<self.x2: xs.add(other.x1)\n",
    "        if self.x1<other.x2<self.x2: xs.add(other.x2)\n",
    "        if self.y1<other.y1<self.y2: ys.add(other.y1)\n",
    "        if self.y1<other.y2<self.y2: ys.add(other.y2)\n",
    "        for (x1, x2), (y1, y2) in itertools.product(\n",
    "            pairwise(sorted(xs)), pairwise(sorted(ys))\n",
    "        ):\n",
    "            rect = type(self)(x1, y1, x2, y2)\n",
    "            if rect!=inter:\n",
    "                yield rect\n",
    "    __sub__ = difference\n",
    "    \n",
    "    def union(self, other):\n",
    "        bdy = []\n",
    "        # Bottom Left:\n",
    "        if (self.x1 < other.x1):\n",
    "            bdy.append((self.x1, self.y1))\n",
    "            if other.y1 < self.y1:\n",
    "                bdy.append((other.x1, other.y1))\n",
    "        else:\n",
    "            bdy.append((other.x1, other.y1))\n",
    "        \n",
    "            \n",
    "\n",
    "    def __init__(self, x1, y1, x2, y2):\n",
    "        if x1>x2 or y1>y2:\n",
    "            raise ValueError(\"Coordinates are invalid\")\n",
    "        self.x1, self.y1, self.x2, self.y2 = x1, y1, x2, y2\n",
    "\n",
    "    def __iter__(self):\n",
    "        yield self.x1\n",
    "        yield self.y1\n",
    "        yield self.x2\n",
    "        yield self.y2\n",
    "\n",
    "    def __eq__(self, other):\n",
    "        return isinstance(other, Rectangle) and tuple(self)==tuple(other)\n",
    "    def __ne__(self, other):\n",
    "        return not (self==other)\n",
    "\n",
    "    def __repr__(self):\n",
    "        return type(self).__name__+repr(tuple(self))\n",
    "\n",
    "\n",
    "def pairwise(iterable):\n",
    "    # https://docs.python.org/dev/library/itertools.html#recipes\n",
    "    a, b = itertools.tee(iterable)\n",
    "    next(b, None)\n",
    "    return zip(a, b)\n",
    "\n",
    "\n",
    "# 1.\n",
    "a = Rectangle(0, 0, 1, 1)      # x0, y0, x1, y1\n",
    "b = Rectangle(0.5, 0.5, 1.5, 1.5)\n",
    "print(a&b)\n",
    "# # Rectangle(0.5, 0.5, 1, 1)\n",
    "print(list(a-b))\n",
    "# # [Rectangle(0, 0, 0.5, 0.5), Rectangle(0, 0.5, 0.5, 1), Rectangle(0.5, 0, 1, 0.5)]\n",
    "\n",
    "# # 2.\n",
    "# b = Rectangle(0.25, 0.25, 1.25, 0.75)\n",
    "# print(a&b)\n",
    "# # Rectangle(0.25, 0.25, 1, 0.75)\n",
    "# print(list(a-b))\n",
    "# # [Rectangle(0, 0, 0.25, 0.25), Rectangle(0, 0.25, 0.25, 0.75), Rectangle(0, 0.75, 0.25, 1), Rectangle(0.25, 0, 1, 0.25), Rectangle(0.25, 0.75, 1, 1)]\n",
    "\n",
    "# # 3.\n",
    "b = Rectangle(0.25, 0.25, 0.75, 0.75)\n",
    "print(a&b)\n",
    "# Rectangle(0.25, 0.25, 0.75, 0.75)\n",
    "print(list(a-b))\n",
    "# [Rectangle(0, 0, 0.25, 0.25), Rectangle(0, 0.25, 0.25, 0.75), Rectangle(0, 0.75, 0.25, 1), Rectangle(0.25, 0, 0.75, 0.25), Rectangle(0.25, 0.75, 0.75, 1), Rectangle(0.75, 0, 1, 0.25), Rectangle(0.75, 0.25, 1, 0.75), Rectangle(0.75, 0.75, 1, 1)]\n",
    "\n",
    "# # 4.\n",
    "# b = Rectangle(5, 5, 10, 10)\n",
    "# print(a&b)\n",
    "# # None\n",
    "# print(list(a-b))\n",
    "# # [Rectangle(0, 0, 1, 1)]\n",
    "\n",
    "# # 5.\n",
    "# b = Rectangle(-5, -5, 10, 10)\n",
    "# print(a&b)\n",
    "# # Rectangle(0, 0, 1, 1)\n",
    "# print(list(a-b))\n",
    "# # []"
   ]
  },
  {
   "cell_type": "code",
   "execution_count": 231,
   "metadata": {},
   "outputs": [
    {
     "data": {
      "image/svg+xml": [
       "<svg xmlns=\"http://www.w3.org/2000/svg\" xmlns:xlink=\"http://www.w3.org/1999/xlink\" width=\"100.0\" height=\"100.0\" viewBox=\"-0.04 -0.04 1.08 1.08\" preserveAspectRatio=\"xMinYMin meet\"><g transform=\"matrix(1,0,0,-1,0,1.0)\"><polyline fill=\"none\" stroke=\"#66cc99\" stroke-width=\"0.0216\" points=\"0.0,0.0 0.0,0.5 1.0,1.0 1.0,0.0 0.0,0.0\" opacity=\"0.8\" /></g></svg>"
      ],
      "text/plain": [
       "<shapely.geometry.polygon.LinearRing at 0x7f88d8a16780>"
      ]
     },
     "execution_count": 231,
     "metadata": {},
     "output_type": "execute_result"
    }
   ],
   "source": [
    "from shapely.geometry import Polygon, box, MultiPolygon\n",
    "polygon = Polygon([(0, 0), (0, 0.5), (1, 1), (1, 0)], [])\n",
    "polygon.exterior\n",
    "#plt.plot(*polygon.exterior)"
   ]
  },
  {
   "cell_type": "code",
   "execution_count": 241,
   "metadata": {},
   "outputs": [
    {
     "data": {
      "image/svg+xml": [
       "<svg xmlns=\"http://www.w3.org/2000/svg\" xmlns:xlink=\"http://www.w3.org/1999/xlink\" width=\"100.0\" height=\"108.0\" viewBox=\"-4.0 -4.0 58.0 108.0\" preserveAspectRatio=\"xMinYMin meet\"><g transform=\"matrix(1,0,0,-1,0,100.0)\"><path fill-rule=\"evenodd\" fill=\"#66cc99\" stroke=\"#555555\" stroke-width=\"2.0\" opacity=\"0.6\" d=\"M 50.0,0.0 L 50.0,100.0 L 0.0,100.0 L 0.0,0.0 L 50.0,0.0 z\" /></g></svg>"
      ],
      "text/plain": [
       "<shapely.geometry.polygon.Polygon at 0x7f88d8d5b630>"
      ]
     },
     "execution_count": 241,
     "metadata": {},
     "output_type": "execute_result"
    }
   ],
   "source": [
    "b1 = box(0,0,50,100)\n",
    "b2 = box(50,0,100,50)\n",
    "b1\n"
   ]
  },
  {
   "cell_type": "code",
   "execution_count": 242,
   "metadata": {},
   "outputs": [
    {
     "data": {
      "image/svg+xml": [
       "<svg xmlns=\"http://www.w3.org/2000/svg\" xmlns:xlink=\"http://www.w3.org/1999/xlink\" width=\"100.0\" height=\"100.0\" viewBox=\"48.0 -2.0 54.0 54.0\" preserveAspectRatio=\"xMinYMin meet\"><g transform=\"matrix(1,0,0,-1,0,50.0)\"><path fill-rule=\"evenodd\" fill=\"#66cc99\" stroke=\"#555555\" stroke-width=\"1.08\" opacity=\"0.6\" d=\"M 100.0,0.0 L 100.0,50.0 L 50.0,50.0 L 50.0,0.0 L 100.0,0.0 z\" /></g></svg>"
      ],
      "text/plain": [
       "<shapely.geometry.polygon.Polygon at 0x7f88d8d5b400>"
      ]
     },
     "execution_count": 242,
     "metadata": {},
     "output_type": "execute_result"
    }
   ],
   "source": [
    "b2"
   ]
  },
  {
   "cell_type": "code",
   "execution_count": 248,
   "metadata": {},
   "outputs": [
    {
     "data": {
      "image/svg+xml": [
       "<svg xmlns=\"http://www.w3.org/2000/svg\" xmlns:xlink=\"http://www.w3.org/1999/xlink\" width=\"108.0\" height=\"108.0\" viewBox=\"-4.0 -4.0 108.0 108.0\" preserveAspectRatio=\"xMinYMin meet\"><g transform=\"matrix(1,0,0,-1,0,100.0)\"><path fill-rule=\"evenodd\" fill=\"#66cc99\" stroke=\"#555555\" stroke-width=\"2.0\" opacity=\"0.6\" d=\"M 50.0,0.0 L 0.0,0.0 L 0.0,100.0 L 50.0,100.0 L 50.0,50.0 L 100.0,50.0 L 100.0,0.0 L 50.0,0.0 z\" /></g></svg>"
      ],
      "text/plain": [
       "<shapely.geometry.polygon.Polygon at 0x7f88d8cd9630>"
      ]
     },
     "execution_count": 248,
     "metadata": {},
     "output_type": "execute_result"
    }
   ],
   "source": [
    "b12 = b1.union(b2)\n",
    "b12"
   ]
  },
  {
   "cell_type": "code",
   "execution_count": 251,
   "metadata": {},
   "outputs": [
    {
     "data": {
      "image/svg+xml": [
       "<svg xmlns=\"http://www.w3.org/2000/svg\" xmlns:xlink=\"http://www.w3.org/1999/xlink\" width=\"108.0\" height=\"108.0\" viewBox=\"-4.0 -4.0 108.0 108.0\" preserveAspectRatio=\"xMinYMin meet\"><g transform=\"matrix(1,0,0,-1,0,100.0)\"><polyline fill=\"none\" stroke=\"#66cc99\" stroke-width=\"2.0\" points=\"50.0,0.0 0.0,0.0 0.0,100.0 50.0,100.0 50.0,50.0 100.0,50.0 100.0,0.0 50.0,0.0\" opacity=\"0.8\" /></g></svg>"
      ],
      "text/plain": [
       "<shapely.geometry.linestring.LineString at 0x7f88d8b77c50>"
      ]
     },
     "execution_count": 251,
     "metadata": {},
     "output_type": "execute_result"
    }
   ],
   "source": [
    "b12.boundary"
   ]
  },
  {
   "cell_type": "code",
   "execution_count": 258,
   "metadata": {},
   "outputs": [
    {
     "data": {
      "text/plain": [
       "[(50.0, 0.0),\n",
       " (0.0, 0.0),\n",
       " (0.0, 100.0),\n",
       " (50.0, 100.0),\n",
       " (50.0, 50.0),\n",
       " (100.0, 50.0),\n",
       " (100.0, 0.0),\n",
       " (50.0, 0.0)]"
      ]
     },
     "execution_count": 258,
     "metadata": {},
     "output_type": "execute_result"
    }
   ],
   "source": [
    "b12.boundary.coords[:]"
   ]
  },
  {
   "cell_type": "code",
   "execution_count": 234,
   "metadata": {},
   "outputs": [
    {
     "data": {
      "image/svg+xml": [
       "<svg xmlns=\"http://www.w3.org/2000/svg\" xmlns:xlink=\"http://www.w3.org/1999/xlink\" width=\"108.0\" height=\"100.0\" viewBox=\"-4.0 -4.0 108.0 58.0\" preserveAspectRatio=\"xMinYMin meet\"><g transform=\"matrix(1,0,0,-1,0,50.0)\"><g><polyline fill=\"none\" stroke=\"#66cc99\" stroke-width=\"2.0\" points=\"50.0,0.0 50.0,50.0 0.0,50.0 0.0,0.0 50.0,0.0\" opacity=\"0.8\" /><polyline fill=\"none\" stroke=\"#66cc99\" stroke-width=\"2.0\" points=\"100.0,0.0 100.0,50.0 50.0,50.0 50.0,0.0 100.0,0.0\" opacity=\"0.8\" /></g></g></svg>"
      ],
      "text/plain": [
       "<shapely.geometry.multilinestring.MultiLineString at 0x7f88d8a16e10>"
      ]
     },
     "execution_count": 234,
     "metadata": {},
     "output_type": "execute_result"
    }
   ],
   "source": [
    "col = MultiPolygon([b1,b2])\n",
    "col.boundary"
   ]
  },
  {
   "cell_type": "code",
   "execution_count": 235,
   "metadata": {},
   "outputs": [
    {
     "data": {
      "image/svg+xml": [
       "<svg xmlns=\"http://www.w3.org/2000/svg\" xmlns:xlink=\"http://www.w3.org/1999/xlink\" width=\"108.0\" height=\"100.0\" viewBox=\"-4.0 -4.0 108.0 58.0\" preserveAspectRatio=\"xMinYMin meet\"><g transform=\"matrix(1,0,0,-1,0,50.0)\"><path fill-rule=\"evenodd\" fill=\"#66cc99\" stroke=\"#555555\" stroke-width=\"2.0\" opacity=\"0.6\" d=\"M 50.0,0.0 L 0.0,0.0 L 0.0,50.0 L 50.0,50.0 L 100.0,50.0 L 100.0,0.0 L 50.0,0.0 z\" /></g></svg>"
      ],
      "text/plain": [
       "<shapely.geometry.polygon.Polygon at 0x7f88d8a16be0>"
      ]
     },
     "execution_count": 235,
     "metadata": {},
     "output_type": "execute_result"
    }
   ],
   "source": [
    "b1.symmetric_difference(b2)"
   ]
  },
  {
   "cell_type": "code",
   "execution_count": 236,
   "metadata": {},
   "outputs": [
    {
     "data": {
      "image/svg+xml": [
       "<svg xmlns=\"http://www.w3.org/2000/svg\" xmlns:xlink=\"http://www.w3.org/1999/xlink\" width=\"100.0\" height=\"100.0\" viewBox=\"48.0 -2.0 4.0 54.0\" preserveAspectRatio=\"xMinYMin meet\"><g transform=\"matrix(1,0,0,-1,0,50.0)\"><polyline fill=\"none\" stroke=\"#66cc99\" stroke-width=\"1.08\" points=\"50.0,0.0 50.0,50.0\" opacity=\"0.8\" /></g></svg>"
      ],
      "text/plain": [
       "<shapely.geometry.linestring.LineString at 0x7f88d8a16470>"
      ]
     },
     "execution_count": 236,
     "metadata": {},
     "output_type": "execute_result"
    }
   ],
   "source": [
    "b1.intersection(b2)"
   ]
  },
  {
   "cell_type": "code",
   "execution_count": 237,
   "metadata": {},
   "outputs": [
    {
     "data": {
      "image/svg+xml": [
       "<svg xmlns=\"http://www.w3.org/2000/svg\" xmlns:xlink=\"http://www.w3.org/1999/xlink\" width=\"108.0\" height=\"100.0\" viewBox=\"-4.0 -4.0 108.0 58.0\" preserveAspectRatio=\"xMinYMin meet\"><g transform=\"matrix(1,0,0,-1,0,50.0)\"><path fill-rule=\"evenodd\" fill=\"#66cc99\" stroke=\"#555555\" stroke-width=\"2.0\" opacity=\"0.6\" d=\"M 50.0,0.0 L 0.0,0.0 L 0.0,50.0 L 50.0,50.0 L 100.0,50.0 L 100.0,0.0 L 50.0,0.0 z\" /></g></svg>"
      ],
      "text/plain": [
       "<shapely.geometry.polygon.Polygon at 0x7f88d8a16320>"
      ]
     },
     "execution_count": 237,
     "metadata": {},
     "output_type": "execute_result"
    }
   ],
   "source": [
    "from shapely.ops import cascaded_union\n",
    "\n",
    "cascaded_union([b1,b2])\n"
   ]
  },
  {
   "cell_type": "code",
   "execution_count": 238,
   "metadata": {},
   "outputs": [
    {
     "name": "stdout",
     "output_type": "stream",
     "text": [
      "POLYGON ((50 0, 0 0, 0 50, 50 50, 100 50, 100 0, 50 0))\n"
     ]
    }
   ],
   "source": [
    "print(cascaded_union([b1,b2]))"
   ]
  },
  {
   "cell_type": "code",
   "execution_count": null,
   "metadata": {},
   "outputs": [],
   "source": []
  }
 ],
 "metadata": {
  "kernelspec": {
   "display_name": "Python 3",
   "language": "python",
   "name": "python3"
  },
  "language_info": {
   "codemirror_mode": {
    "name": "ipython",
    "version": 3
   },
   "file_extension": ".py",
   "mimetype": "text/x-python",
   "name": "python",
   "nbconvert_exporter": "python",
   "pygments_lexer": "ipython3",
   "version": "3.6.1"
  }
 },
 "nbformat": 4,
 "nbformat_minor": 2
}
